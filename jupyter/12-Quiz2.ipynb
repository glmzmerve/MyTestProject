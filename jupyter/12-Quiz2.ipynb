{
  "metadata": {
    "language_info": {
      "codemirror_mode": {
        "name": "python",
        "version": 3
      },
      "file_extension": ".py",
      "mimetype": "text/x-python",
      "name": "python",
      "nbconvert_exporter": "python",
      "pygments_lexer": "ipython3",
      "version": "3.8"
    },
    "kernelspec": {
      "name": "python",
      "display_name": "Python (Pyodide)",
      "language": "python"
    }
  },
  "nbformat_minor": 4,
  "nbformat": 4,
  "cells": [
    {
      "cell_type": "code",
      "source": "x = 5\ny = 3\nz = 6\nx > y and z > x",
      "metadata": {
        "trusted": true
      },
      "execution_count": 1,
      "outputs": [
        {
          "execution_count": 1,
          "output_type": "execute_result",
          "data": {
            "text/plain": "True"
          },
          "metadata": {}
        }
      ]
    },
    {
      "cell_type": "code",
      "source": "x < y or z > y",
      "metadata": {
        "trusted": true
      },
      "execution_count": 2,
      "outputs": [
        {
          "execution_count": 2,
          "output_type": "execute_result",
          "data": {
            "text/plain": "True"
          },
          "metadata": {}
        }
      ]
    },
    {
      "cell_type": "code",
      "source": "yas = 20\n\nif yas < 18:\n    print(\"18 yaşından küçüksünüz\")\nelif yas >= 18 and yas < 30:\n    print(\"18 ile 30 yaş arasında bir gençsiniz\")\nelif yas >= 30 and yas < 40:\n    print(\"30 ve 40 arasına gelmişsiniz\")\nelse:\n    print(\"40 yaşından daha büyüksünüz\")",
      "metadata": {
        "trusted": true
      },
      "execution_count": 3,
      "outputs": [
        {
          "name": "stdout",
          "text": "18 ile 30 yaş arasında bir gençsiniz\n",
          "output_type": "stream"
        }
      ]
    },
    {
      "cell_type": "code",
      "source": "my_dictionary = {\"k1\":10,\"k2k\":\"a\",\"k32\":30,\"k4\":\"c\"}",
      "metadata": {
        "trusted": true
      },
      "execution_count": 4,
      "outputs": []
    },
    {
      "cell_type": "code",
      "source": "for e in my_dictionary.values():\n    if e==\"c\":\n        print(\"var\")",
      "metadata": {
        "trusted": true
      },
      "execution_count": 13,
      "outputs": [
        {
          "name": "stdout",
          "text": "var\n",
          "output_type": "stream"
        }
      ]
    },
    {
      "cell_type": "code",
      "source": "my_numbers = [1,2,3,4,5,6,19,20,32,21,20,1111,23,24]\nfor num in my_numbers:\n    if num%2==0:\n        print(num)\n    \n    ",
      "metadata": {
        "trusted": true
      },
      "execution_count": 9,
      "outputs": [
        {
          "name": "stdout",
          "text": "2\n4\n6\n20\n32\n20\n24\n",
          "output_type": "stream"
        }
      ]
    },
    {
      "cell_type": "code",
      "source": "my_other_dictionary = {\"b\":203,\"c\":\"a\",\"a\":400,\"d\":\"f\"}",
      "metadata": {
        "trusted": true
      },
      "execution_count": 14,
      "outputs": []
    },
    {
      "cell_type": "code",
      "source": "for e in my_other_dictionary.keys():\n    if e==\"a\":\n        print(\"var\")",
      "metadata": {
        "trusted": true
      },
      "execution_count": 17,
      "outputs": [
        {
          "name": "stdout",
          "text": "var\n",
          "output_type": "stream"
        }
      ]
    },
    {
      "cell_type": "code",
      "source": "r_list = [3,2,5,8,4,6,9,12]\nfor r in r_list:\n    print(\"çevre\",2*3.14*r)",
      "metadata": {
        "trusted": true
      },
      "execution_count": 18,
      "outputs": [
        {
          "name": "stdout",
          "text": "çevre 18.84\nçevre 12.56\nçevre 31.400000000000002\nçevre 50.24\nçevre 25.12\nçevre 37.68\nçevre 56.52\nçevre 75.36\n",
          "output_type": "stream"
        }
      ]
    },
    {
      "cell_type": "code",
      "source": "age_name_list = [(\"Ahmet\",30),(\"Ayse\",24),(\"Mehmet\",40),(\"Fatma\",29)]",
      "metadata": {
        "trusted": true
      },
      "execution_count": 39,
      "outputs": []
    },
    {
      "cell_type": "code",
      "source": "yas_listesi = []\nfor (isim,yas) in age_name_list:\n    yas_listesi.append(yas)\nyas_listesi",
      "metadata": {
        "trusted": true
      },
      "execution_count": 41,
      "outputs": [
        {
          "execution_count": 41,
          "output_type": "execute_result",
          "data": {
            "text/plain": "[30, 24, 40, 29]"
          },
          "metadata": {}
        }
      ]
    },
    {
      "cell_type": "code",
      "source": "metal_list = [\"Metallica\",\"Iron Maiden\",\"Dream Theater\",\"Megadeth\",\"AC/DC\"]",
      "metadata": {
        "trusted": true
      },
      "execution_count": 25,
      "outputs": []
    },
    {
      "cell_type": "code",
      "source": "from random import randint",
      "metadata": {
        "trusted": true
      },
      "execution_count": 26,
      "outputs": []
    },
    {
      "cell_type": "code",
      "source": "metal_list[randint(0,len(metal_list)-1)]",
      "metadata": {
        "trusted": true
      },
      "execution_count": 28,
      "outputs": [
        {
          "execution_count": 28,
          "output_type": "execute_result",
          "data": {
            "text/plain": "'Dream Theater'"
          },
          "metadata": {}
        }
      ]
    },
    {
      "cell_type": "code",
      "source": "number_list = [5,7,18,21,20,10,405,24]\n[num % 2 == 0 for num in number_list]",
      "metadata": {
        "trusted": true
      },
      "execution_count": 29,
      "outputs": [
        {
          "execution_count": 29,
          "output_type": "execute_result",
          "data": {
            "text/plain": "[False, False, True, False, True, True, False, True]"
          },
          "metadata": {}
        }
      ]
    },
    {
      "cell_type": "code",
      "source": "",
      "metadata": {},
      "execution_count": null,
      "outputs": []
    }
  ]
}